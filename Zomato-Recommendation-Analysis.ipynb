{
 "cells": [
  {
   "cell_type": "markdown",
   "id": "da74d1d4",
   "metadata": {},
   "source": [
    "# **Initial Set Up**"
   ]
  },
  {
   "cell_type": "markdown",
   "id": "99d22a40",
   "metadata": {},
   "source": [
    "### **Evaluating Machine Learning Models.**\n",
    " \n",
    "**Instructions.** Select a dataset from [UCI](https://archive.ics.uci.edu/ml/datasets.php) or [Google](https://datasetsearch.research.google.com/), formulate a machine learning problem (supervised or unsupervised), and build and evaluate two models (different methods) that solve the problem. Any programming language may be used. \n",
    "- You may also use other legitimate sources at the same level of the UCI and Google sites provided. \n",
    "- You may use methods not taught in class. KNN is not an option. \n",
    "- You may also use a portion of the dataset if its size causes problems (e.g. reduce the number of rows)\n",
    "\n",
    "**Deliverables.** In a Google Drive folder that I can access, submit the following: \n",
    "- Source code and executables\n",
    "- Instructions on how to use your resources (i.e. your program)\n",
    "- Slide deck explaining your work\n",
    "- Recorded video presentation of your work (approx 20-30mins)\n",
    "\n",
    "**Expected Output.**\n",
    "- Jupyter Notebook (.ipynb)\n",
    "- Resources (csv unclean and cleaned)\n",
    "- Video Presentation\n",
    "- Slide Deck Presentation"
   ]
  },
  {
   "cell_type": "markdown",
   "id": "4480d0a8-e8d5-4114-8561-d17f7a9d5faa",
   "metadata": {},
   "source": [
    "# **Description of the Dataset**\n",
    "\n",
    "### **Introduction to the Dataset**\n",
    "The dataset contains raw information extracted from the Zomato Recommendation Application. The data is based in **Pune, India** and covers the timeline from **2023**. In this project, we aim to apply three machine learning models: **Random Forest**, **Decision Trees**, and **Naive Bayes**.\n",
    "\n",
    "<!--\n",
    "\n",
    "First utilizing exploratory data analysis (EDA) in finding the appropriate feature / factor that mostly affects the data in curating the \"top\" recommended restaurant. In otherwords, we first aim to find what feature directly affects the scores of each company.\n",
    "\n",
    "-->\n",
    "\n",
    "Our goal for this analysis is to be able to determine ..."
   ]
  },
  {
   "cell_type": "markdown",
   "id": "89187fb3",
   "metadata": {},
   "source": [
    "### **Ideal Pipeline**\n",
    "\n",
    "**1. Data Preprocessing**\n",
    "- Load and Inspection of data.\n",
    "- Cleaning the data (i.e. Tableau)"
   ]
  }
 ],
 "metadata": {
  "kernelspec": {
   "display_name": "Python 3 (ipykernel)",
   "language": "python",
   "name": "python3"
  },
  "language_info": {
   "codemirror_mode": {
    "name": "ipython",
    "version": 3
   },
   "file_extension": ".py",
   "mimetype": "text/x-python",
   "name": "python",
   "nbconvert_exporter": "python",
   "pygments_lexer": "ipython3",
   "version": "3.13.2"
  }
 },
 "nbformat": 4,
 "nbformat_minor": 5
}
