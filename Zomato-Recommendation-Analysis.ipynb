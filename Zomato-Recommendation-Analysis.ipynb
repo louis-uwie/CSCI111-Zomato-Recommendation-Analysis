{
 "cells": [
  {
   "cell_type": "markdown",
   "id": "da74d1d4",
   "metadata": {},
   "source": [
    "# **Initial Set Up**"
   ]
  },
  {
   "cell_type": "markdown",
   "id": "99d22a40",
   "metadata": {},
   "source": [
    "**Evaluating Machine Learning Models.**\n",
    " \n",
    "**Instructions.** Select a dataset from [UCI](https://archive.ics.uci.edu/ml/datasets.php) or [Google](https://datasetsearch.research.google.com/), formulate a machine learning problem (supervised or unsupervised), and build and evaluate two models (different methods) that solve the problem. Any programming language may be used. \n",
    "- You may also use other legitimate sources at the same level of the UCI and Google sites provided. \n",
    "- You may use methods not taught in class. KNN is not an option. \n",
    "- You may also use a portion of the dataset if its size causes problems (e.g. reduce the number of rows)\n",
    "\n",
    "**Deliverables.** In a Google Drive folder that I can access, submit the following: \n",
    "- Source code and executables\n",
    "- Instructions on how to use your resources (i.e. your program)\n",
    "- Slide deck explaining your work\n",
    "- Recorded video presentation of your work (approx 20-30mins)"
   ]
  },
  {
   "cell_type": "markdown",
   "id": "462a92e1-5181-4665-9511-dcebd95eb886",
   "metadata": {},
   "source": [
    "## **Introduction to the Dataset**\n",
    "\n",
    "The dataset contains raw information extracted from the Zomato recommendation application. The data is based in `<city>`, India, and covers the period from `<date1>` to `<date2>`.\n",
    "\n",
    "In this project, we aim to apply three machine learning models: **Random Forest**, **Support Vector Machines (SVM)**, and **Naive Bayes**. Initially, we considered using only Random Forest and SVM. However, to avoid a potential analytical stalemate between two complex models, we introduced Naive Bayes as a third model to offer a simpler probabilistic perspective.\n",
    "\n",
    "Our approach involves a **three-level iteration process**, where we fine-tune each model at every iteration to account for new patterns, insights, or adjustments in the data. Ultimately, we seek to analyze how the Zomato recommendation algorithm aligns with actual user data and preferences, and evaluate which model best captures this relationship. This process can be better viewed with the following table:\n",
    "\n",
    "**Model Iterations**\n",
    "\n",
    "| Passes / Iterations | Random Forest | SVM         | Naive Bayes | Output            |\n",
    "|---------------------|----------------|-------------|-------------|------------------|\n",
    "| First Iteration     | 1/3            | 1/3         | 1/3         | Random Forest.   |\n",
    "| Second Iteration    | 1/6            | 2/3         | 1/3         | SVM              |\n",
    "| Third Iteration     | ...           | ...         | ...         | ...              |\n",
    "\n"
   ]
  },
  {
   "cell_type": "markdown",
   "id": "4480d0a8-e8d5-4114-8561-d17f7a9d5faa",
   "metadata": {},
   "source": [
    "# **Description of the Dataset**\n",
    "\n",
    "Wait on Godwyn."
   ]
  },
  {
   "cell_type": "code",
   "execution_count": null,
   "id": "0f02e5f5-d3be-48c5-807b-be0caf30dae2",
   "metadata": {},
   "outputs": [],
   "source": []
  }
 ],
 "metadata": {
  "kernelspec": {
   "display_name": "Python 3 (ipykernel)",
   "language": "python",
   "name": "python3"
  },
  "language_info": {
   "codemirror_mode": {
    "name": "ipython",
    "version": 3
   },
   "file_extension": ".py",
   "mimetype": "text/x-python",
   "name": "python",
   "nbconvert_exporter": "python",
   "pygments_lexer": "ipython3",
   "version": "3.13.2"
  }
 },
 "nbformat": 4,
 "nbformat_minor": 5
}
