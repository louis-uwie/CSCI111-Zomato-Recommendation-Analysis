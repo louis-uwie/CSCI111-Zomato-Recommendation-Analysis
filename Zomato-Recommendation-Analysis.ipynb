{
 "cells": [
  {
   "cell_type": "markdown",
   "id": "da74d1d4",
   "metadata": {},
   "source": [
    "# I. **Initial Set Up**\n",
    "\n",
    "## **Project on Evaluating Machine Learning Models.**\n",
    " \n",
    "**Instructions.** Select a dataset from [UCI](https://archive.ics.uci.edu/ml/datasets.php) or [Google](https://datasetsearch.research.google.com/), formulate a machine learning problem (supervised or unsupervised), and build and evaluate two models (different methods) that solve the problem. Any programming language may be used. \n",
    "- You may also use other legitimate sources at the same level of the UCI and Google sites provided. \n",
    "- You may use methods not taught in class. KNN is not an option. \n",
    "- You may also use a portion of the dataset if its size causes problems (e.g. reduce the number of rows)\n",
    "\n",
    "**Deliverables.** In a Google Drive folder that I can access, submit the following: \n",
    "- Source code and executables\n",
    "- Instructions on how to use your resources (i.e. your program)\n",
    "- Slide deck explaining your work\n",
    "- Recorded video presentation of your work (approx 20-30mins)\n",
    "\n",
    "**Expected Output.**\n",
    "- Jupyter Notebook (.ipynb)\n",
    "- Resources (csv unclean and cleaned)\n",
    "- Video Presentation\n",
    "- Slide Deck Presentation"
   ]
  },
  {
   "cell_type": "markdown",
   "id": "a15b589b",
   "metadata": {},
   "source": [
    "# **II. Data Set**\n",
    "\n",
    "**Dataset Overview.**\n",
    "\n",
    "The dataset contains raw information sourced from the Zomato Recommendation Platform for restaurants based in Pune, India, covering the year 2023. Each row corresponds to a single restaurant entry and includes a variety of attributes such as the restaurant’s name, multiple types of cuisine offered (up to eight slots), its categorized food type, the average cost for two people, the locality within Pune, and the average customer dining rating.\n",
    "\n",
    "This dataset provides a foundation for predictive modeling and exploratory analysis, as it blends both categorical (e.g., cuisine types, locality) and numerical (e.g., rating, pricing) data. Through this structure, we can investigate patterns in consumer preferences, identify key factors influencing restaurant ratings, and evaluate the performance of machine learning models like Decision Trees and Mixed Naive Bayes in classifying highly rated restaurants.\n",
    "\n",
    "| **Features**              | **Short Explanation**                                                         | **Possible Values / Example**                 |\n",
    "| ------------------------ | ----------------------------------------------------------------------------- | --------------------------------------------- |\n",
    "| `Restaurant_Name`        | Name of the restaurant listed on Zomato                                       | `\"Le Plaisir\"`, `\"Savya Rasa\"`                |\n",
    "| `Cuisine1` to `Cuisine8` | Different types of cuisines offered by the restaurant, in order of prominence | `\"South Indian\"`, `\"Desserts\"`, `\"MISSING\"`   |\n",
    "| `Category`               | Grouped categories combining all cuisine types into a readable list           | `\"Cafe, Italian, Continental...\"`             |\n",
    "| `Pricing_for_2`          | Approximate cost for two people, in INR                                       | `600`, `1200`, `2100`                         |\n",
    "| `Locality in Pune`       | Location/neighborhood of the restaurant in Pune                               | `\"Koregaon Park\"`, `\"Baner\"`, `\"Viman Nagar\"` |\n",
    "| `Dining_Rating`          | Average customer rating of the restaurant (out of 5)                          | `4.2`, `3.8`, `4.9`                           |\n"
   ]
  },
  {
   "cell_type": "markdown",
   "id": "4480d0a8-e8d5-4114-8561-d17f7a9d5faa",
   "metadata": {},
   "source": [
    "# **III. Ideal Pipeline**\n",
    "\n",
    "Our goal for this analysis is to be able to determine which model is able to more accurately predict what are the top restaurants in the locale (possibly depending on cuisines, locality, or average price.) <!-- Expound >\n",
    "\n",
    "**1. Data Preprocessing**\n",
    "- Load and Inspection of data.\n",
    "- Cleaning the data (i.e. Tableau) <!-- care of Godwyn -->\n",
    "\n",
    "**2. Exploratory Data Analysis (EDA)**\n",
    "- This will be more on understanding which features create a reactive effect towards the rest of the feature. \n",
    "- Identifies which feature is able to change the course of the data. From there, we will implement the models.\n",
    "\n",
    "**3. Decision Tree Implementation 1 (DT1)**\n",
    "- This will be one of the initial basis of our model apart from EDA.\n",
    "\n",
    "**4. Apply Decision Tree Implementation 2 (DT2)**\n",
    "- The second implementation of Decision Tree will consist of the data set where we have omitted certain features (To be identified soon. _i.e., MISSING values, certain irrelevant features_) based on our domain knowledge.\n",
    "- Comparing this to Decision Tree Implementation 1, we may be able to justify that omitting certain \"junk\" features can make Decision Tree model more accurate.\n",
    "\n",
    "**5. Apply Mixed Naive Bayes (MNB)**\n",
    "- The final model we use in this study is the Mixed Naive Bayes (MNB) classifier. This model is a variation of the standard Naive Bayes algorithm that allows us to handle both categorical and continuous features—whic makes it especially well-suited for real-world datasets like Zomato’s, where variables such as cuisine type (categorical) and average price (numerical) coexist.\n",
    "\n",
    "**6. Conclusion**\n",
    "- Generally, through ***Exploratory Data Analysis (EDA) and both Decision Tree implementations***, you may conclude that certain features—such as Cuisine type, Locality, or Average Price—have a strong influence on whether a restaurant receives high ratings. _Features like 'MISSING' or non-informative columns could be confirmed as noise, negatively affecting model accuracy._\n",
    "- Comparing ***Decision Tree 1 (all features) with Decision Tree 2 (cleaned features)***, you might find that:\n",
    "    - Removing irrelevant or noisy features leads to higher accuracy and simpler tree structures.\n",
    "    - This supports the idea that domain knowledge-based feature pruning improves model performance.\n",
    "- ***Mixed Naive Bayes (MNB) might perform competitively or better on some metrics*** (like precision or recall) compared to Decision Trees, especially in cases where feature independence is mostly true. However, MNB might underperform if features are highly correlated, where Decision Trees can better handle interactions."
   ]
  },
  {
   "cell_type": "markdown",
   "id": "b65b1a50",
   "metadata": {},
   "source": [
    "# **IV. Data Preprocessing**\n",
    "\n",
    "< This section will include general importing and inspection of the data. Cleaning the data as well for nullified or duplicated values. > <!-- Expound more >"
   ]
  },
  {
   "cell_type": "code",
   "execution_count": null,
   "id": "1f4b1f89",
   "metadata": {},
   "outputs": [],
   "source": [
    "## Assume that we do not have the necessary libraries installed. \n",
    "%pip install pandas numpy matplotlib seaborn scikit-learn mixed-naive-bayes #This is to install the libraries needed to run the code.\n",
    "%pip install --upgrade pip #Updates pip\n",
    "\n",
    "# Need to install tkinter.\n",
    "# For mac: brew install python-tk\n",
    "\n",
    "import pandas as pd\n",
    "import numpy as np\n",
    "# import tkinter as tk\n",
    "# from tkinter import filedialog\n",
    "\n",
    "import math\n",
    "\n",
    "from sklearn.tree import DecisionTreeClassifier, plot_tree\n",
    "import matplotlib.pyplot as plt\n",
    "from scipy.stats import percentileofscore\n",
    "import seaborn as sns\n",
    "from sklearn.preprocessing import MinMaxScaler\n",
    "\n",
    "from sklearn.model_selection import train_test_split\n",
    "from sklearn.metrics import accuracy_score\n",
    "from sklearn.metrics import confusion_matrix, ConfusionMatrixDisplay\n",
    "from sklearn.tree import DecisionTreeClassifier\n",
    "from sklearn.model_selection import cross_val_score, KFold ## https://www.geeksforgeeks.org/cross-validation-machine-learning/\n",
    "from mixed_naive_bayes import MixedNB\n",
    "\n",
    "## Use if you are using Google Drive\n",
    "import io\n",
    "\n",
    "## Use if you are using Google Colab\n",
    "# from google.colab import files\n",
    "# uploaded = files.upload()"
   ]
  },
  {
   "cell_type": "code",
   "execution_count": 9,
   "id": "3ce5c023",
   "metadata": {},
   "outputs": [
    {
     "name": "stdout",
     "output_type": "stream",
     "text": [
      "Selected file: /Users/uwie/Documents/_Github/CSCI111-MachineLearning/LOZADA, BINWAG, CSCI 211 Zomato Dataset Pune.csv\n"
     ]
    },
    {
     "ename": "TypeError",
     "evalue": "a bytes-like object is required, not 'DataFrame'",
     "output_type": "error",
     "traceback": [
      "\u001b[31m---------------------------------------------------------------------------\u001b[39m",
      "\u001b[31mTypeError\u001b[39m                                 Traceback (most recent call last)",
      "\u001b[36mCell\u001b[39m\u001b[36m \u001b[39m\u001b[32mIn[9]\u001b[39m\u001b[32m, line 12\u001b[39m\n\u001b[32m      9\u001b[39m df = pd.read_csv(file_path)\n\u001b[32m     11\u001b[39m \u001b[38;5;66;03m# To be able to  view.\u001b[39;00m\n\u001b[32m---> \u001b[39m\u001b[32m12\u001b[39m zomato_pune = pd.read_csv(\u001b[43mio\u001b[49m\u001b[43m.\u001b[49m\u001b[43mBytesIO\u001b[49m\u001b[43m(\u001b[49m\u001b[43mdf\u001b[49m\u001b[43m)\u001b[49m)\n\u001b[32m     13\u001b[39m zomato_for_eda = zomato_pune.copy()\n\u001b[32m     14\u001b[39m zomato_for_eda\n",
      "\u001b[31mTypeError\u001b[39m: a bytes-like object is required, not 'DataFrame'"
     ]
    }
   ],
   "source": [
    "## If using Jupyter Notebook / Run Locally via VS Code. Import the file LOZADA, BINWAG, CSCI 211 Zomato Dataset Pune.csv\n",
    "# Hardcoded file path to your dataset\n",
    "file_path = \"/Users/uwie/Documents/_Github/CSCI111-MachineLearning/LOZADA, BINWAG, CSCI 211 Zomato Dataset Pune.csv\"\n",
    "print(\"Selected file:\", file_path)\n",
    "\n",
    "# Load dataset into pandas\n",
    "zomato_pune = pd.read_csv(file_path)\n",
    "\n",
    "# Create a working copy for analysis\n",
    "zomato_for_eda = zomato_pune.copy()\n",
    "\n",
    "# Display the data\n",
    "zomato_for_eda.head()\n"
   ]
  },
  {
   "cell_type": "code",
   "execution_count": null,
   "id": "7ede7d86-264e-4016-9fd4-6c8d7008ad14",
   "metadata": {},
   "outputs": [],
   "source": []
  }
 ],
 "metadata": {
  "kernelspec": {
   "display_name": "Python 3 (ipykernel)",
   "language": "python",
   "name": "python3"
  },
  "language_info": {
   "codemirror_mode": {
    "name": "ipython",
    "version": 3
   },
   "file_extension": ".py",
   "mimetype": "text/x-python",
   "name": "python",
   "nbconvert_exporter": "python",
   "pygments_lexer": "ipython3",
   "version": "3.13.2"
  }
 },
 "nbformat": 4,
 "nbformat_minor": 5
}
